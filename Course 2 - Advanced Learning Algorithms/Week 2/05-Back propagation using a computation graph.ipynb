{
 "cells": [
  {
   "cell_type": "markdown",
   "metadata": {},
   "source": [
    "# Back Propagtion using a computation graph"
   ]
  },
  {
   "cell_type": "code",
   "execution_count": 2,
   "metadata": {},
   "outputs": [],
   "source": [
    "from sympy import *\n",
    "import numpy as np\n",
    "import re\n",
    "%matplotlib widget\n",
    "import matplotlib.pyplot as plt\n",
    "from matplotlib.widgets import TextBox\n",
    "from matplotlib.widgets import Button\n",
    "import ipywidgets as widgets\n",
    "from lab_utils_backprop import *"
   ]
  },
  {
   "cell_type": "code",
   "execution_count": 4,
   "metadata": {},
   "outputs": [
    {
     "name": "stdout",
     "output_type": "stream",
     "text": [
      "a=11,J=121\n"
     ]
    }
   ],
   "source": [
    "w=3\n",
    "a=(2+3*w)\n",
    "J=a**2\n",
    "print(f\"a={a},J={J}\")"
   ]
  },
  {
   "cell_type": "code",
   "execution_count": 5,
   "metadata": {},
   "outputs": [
    {
     "name": "stdout",
     "output_type": "stream",
     "text": [
      "J=121,J_epsilon=121.02200099999999,dJ_da~=k=22.000999999988835\n"
     ]
    }
   ],
   "source": [
    "a_epsilon=a+0.001\n",
    "J_epsilon=(a_epsilon)**2\n",
    "k=(J_epsilon-J)/0.001\n",
    "print(f\"J={J},J_epsilon={J_epsilon},dJ_da~=k={k}\")"
   ]
  },
  {
   "cell_type": "code",
   "execution_count": 6,
   "metadata": {},
   "outputs": [
    {
     "data": {
      "text/latex": [
       "$\\displaystyle a^{2}$"
      ],
      "text/plain": [
       "a**2"
      ]
     },
     "execution_count": 6,
     "metadata": {},
     "output_type": "execute_result"
    }
   ],
   "source": [
    "sw,sJ,sa=symbols(\"w,J,a\")\n",
    "sJ=sa**2\n",
    "sJ"
   ]
  },
  {
   "cell_type": "code",
   "execution_count": 7,
   "metadata": {},
   "outputs": [
    {
     "data": {
      "text/latex": [
       "$\\displaystyle 121$"
      ],
      "text/plain": [
       "121"
      ]
     },
     "execution_count": 7,
     "metadata": {},
     "output_type": "execute_result"
    }
   ],
   "source": [
    "sJ.subs([(sa,a)])"
   ]
  },
  {
   "cell_type": "code",
   "execution_count": 9,
   "metadata": {},
   "outputs": [
    {
     "data": {
      "text/latex": [
       "$\\displaystyle 2 a$"
      ],
      "text/plain": [
       "2*a"
      ]
     },
     "execution_count": 9,
     "metadata": {},
     "output_type": "execute_result"
    }
   ],
   "source": [
    "dJ_da=diff(sJ,sa)\n",
    "dJ_da"
   ]
  },
  {
   "cell_type": "code",
   "execution_count": 11,
   "metadata": {},
   "outputs": [
    {
     "name": "stdout",
     "output_type": "stream",
     "text": [
      "a=11,a_epsilon=11.003,da_dw~=3.0000000000001137\n"
     ]
    }
   ],
   "source": [
    "w_epsilon=w+0.001\n",
    "a_epsilon=2+3*w_epsilon\n",
    "k=(a_epsilon-a)/0.001\n",
    "print(f\"a={a},a_epsilon={a_epsilon},da_dw~={k}\")"
   ]
  },
  {
   "cell_type": "code",
   "execution_count": 12,
   "metadata": {},
   "outputs": [
    {
     "data": {
      "text/latex": [
       "$\\displaystyle 3 w + 2$"
      ],
      "text/plain": [
       "3*w + 2"
      ]
     },
     "execution_count": 12,
     "metadata": {},
     "output_type": "execute_result"
    }
   ],
   "source": [
    "sa=2+3*sw\n",
    "sa"
   ]
  },
  {
   "cell_type": "code",
   "execution_count": 13,
   "metadata": {},
   "outputs": [
    {
     "data": {
      "text/latex": [
       "$\\displaystyle 3$"
      ],
      "text/plain": [
       "3"
      ]
     },
     "execution_count": 13,
     "metadata": {},
     "output_type": "execute_result"
    }
   ],
   "source": [
    "da_dw=diff(sa,sw)\n",
    "da_dw"
   ]
  },
  {
   "cell_type": "code",
   "execution_count": 14,
   "metadata": {},
   "outputs": [
    {
     "data": {
      "text/latex": [
       "$\\displaystyle 6 a$"
      ],
      "text/plain": [
       "6*a"
      ]
     },
     "execution_count": 14,
     "metadata": {},
     "output_type": "execute_result"
    }
   ],
   "source": [
    "dJ_dw=da_dw*dJ_da\n",
    "dJ_dw"
   ]
  },
  {
   "cell_type": "code",
   "execution_count": 15,
   "metadata": {},
   "outputs": [
    {
     "name": "stdout",
     "output_type": "stream",
     "text": [
      "J = 121, J_epsilon = 121.06600900000001, dJ_dw ~= k = 66.0090000000082 \n"
     ]
    }
   ],
   "source": [
    "w_epsilon = w + 0.001\n",
    "a_epsilon = 2 + 3*w_epsilon\n",
    "J_epsilon = a_epsilon**2\n",
    "k = (J_epsilon - J)/0.001   # difference divided by epsilon\n",
    "print(f\"J = {J}, J_epsilon = {J_epsilon}, dJ_dw ~= k = {k} \")"
   ]
  },
  {
   "cell_type": "code",
   "execution_count": 16,
   "metadata": {},
   "outputs": [
    {
     "name": "stdout",
     "output_type": "stream",
     "text": [
      "J=4.5, d=3, a=4, c=-4\n"
     ]
    }
   ],
   "source": [
    "x=2\n",
    "b=8\n",
    "w=-2\n",
    "y=1\n",
    "c=w*x\n",
    "a=c+b\n",
    "d=a-y\n",
    "J=(1/2)*(d**2)\n",
    "print(f\"J={J}, d={d}, a={a}, c={c}\")"
   ]
  },
  {
   "cell_type": "code",
   "execution_count": 17,
   "metadata": {},
   "outputs": [
    {
     "data": {
      "text/plain": [
       "3.0004999999997395"
      ]
     },
     "execution_count": 17,
     "metadata": {},
     "output_type": "execute_result"
    }
   ],
   "source": [
    "d_epsilon=d+0.001\n",
    "J_epsilon=(1/2)*(d_epsilon**2)\n",
    "k=(J_epsilon-J)/0.001\n",
    "k"
   ]
  },
  {
   "cell_type": "code",
   "execution_count": 20,
   "metadata": {},
   "outputs": [
    {
     "data": {
      "text/latex": [
       "$\\displaystyle \\frac{d^{2}}{2}$"
      ],
      "text/plain": [
       "d**2/2"
      ]
     },
     "execution_count": 20,
     "metadata": {},
     "output_type": "execute_result"
    }
   ],
   "source": [
    "sx,sw,sb,sy,sJ = symbols('x,w,b,y,J') \n",
    "sa, sc, sd = symbols('a,c,d') \n",
    "sJ = sd**2/2 \n",
    "sJ"
   ]
  },
  {
   "cell_type": "code",
   "execution_count": 22,
   "metadata": {},
   "outputs": [
    {
     "data": {
      "text/latex": [
       "$\\displaystyle \\frac{9}{2}$"
      ],
      "text/plain": [
       "9/2"
      ]
     },
     "execution_count": 22,
     "metadata": {},
     "output_type": "execute_result"
    }
   ],
   "source": [
    "sJ.subs([(sd,d)])"
   ]
  },
  {
   "cell_type": "code",
   "execution_count": 23,
   "metadata": {},
   "outputs": [
    {
     "data": {
      "text/latex": [
       "$\\displaystyle d$"
      ],
      "text/plain": [
       "d"
      ]
     },
     "execution_count": 23,
     "metadata": {},
     "output_type": "execute_result"
    }
   ],
   "source": [
    "dJ_dd=diff(sJ,sd)\n",
    "dJ_dd"
   ]
  },
  {
   "cell_type": "code",
   "execution_count": 24,
   "metadata": {},
   "outputs": [
    {
     "data": {
      "text/plain": [
       "1.000000000000334"
      ]
     },
     "execution_count": 24,
     "metadata": {},
     "output_type": "execute_result"
    }
   ],
   "source": [
    "a_epsilon=a+0.001\n",
    "d_epsilon=a_epsilon-y\n",
    "k=(d_epsilon-d)/0.001\n",
    "k"
   ]
  },
  {
   "cell_type": "code",
   "execution_count": 25,
   "metadata": {},
   "outputs": [
    {
     "data": {
      "text/latex": [
       "$\\displaystyle a - y$"
      ],
      "text/plain": [
       "a - y"
      ]
     },
     "execution_count": 25,
     "metadata": {},
     "output_type": "execute_result"
    }
   ],
   "source": [
    "sd=sa-sy\n",
    "sd"
   ]
  },
  {
   "cell_type": "code",
   "execution_count": 26,
   "metadata": {},
   "outputs": [
    {
     "data": {
      "text/latex": [
       "$\\displaystyle 1$"
      ],
      "text/plain": [
       "1"
      ]
     },
     "execution_count": 26,
     "metadata": {},
     "output_type": "execute_result"
    }
   ],
   "source": [
    "dd_da=diff(sd,sa)\n",
    "dd_da"
   ]
  },
  {
   "cell_type": "code",
   "execution_count": 27,
   "metadata": {},
   "outputs": [
    {
     "data": {
      "text/latex": [
       "$\\displaystyle d$"
      ],
      "text/plain": [
       "d"
      ]
     },
     "execution_count": 27,
     "metadata": {},
     "output_type": "execute_result"
    }
   ],
   "source": [
    "dJ_da=dJ_dd*dd_da\n",
    "dJ_da"
   ]
  },
  {
   "cell_type": "code",
   "execution_count": 28,
   "metadata": {},
   "outputs": [
    {
     "name": "stdout",
     "output_type": "stream",
     "text": [
      "J = 4.5, J_epsilon = 4.503000500000001, dJ_da ~= k = 3.0005000000006277 \n"
     ]
    }
   ],
   "source": [
    "a_epsilon = a + 0.001\n",
    "d_epsilon = a_epsilon - y\n",
    "J_epsilon = d_epsilon**2/2\n",
    "k = (J_epsilon - J)/0.001   \n",
    "print(f\"J = {J}, J_epsilon = {J_epsilon}, dJ_da ~= k = {k} \")"
   ]
  },
  {
   "cell_type": "code",
   "execution_count": 29,
   "metadata": {},
   "outputs": [
    {
     "data": {
      "text/latex": [
       "$\\displaystyle b + c$"
      ],
      "text/plain": [
       "b + c"
      ]
     },
     "execution_count": 29,
     "metadata": {},
     "output_type": "execute_result"
    }
   ],
   "source": [
    "sa=sc+sb\n",
    "sa"
   ]
  },
  {
   "cell_type": "code",
   "execution_count": 30,
   "metadata": {},
   "outputs": [
    {
     "data": {
      "text/latex": [
       "$\\displaystyle 1$"
      ],
      "text/plain": [
       "1"
      ]
     },
     "execution_count": 30,
     "metadata": {},
     "output_type": "execute_result"
    },
    {
     "data": {
      "text/latex": [
       "$\\displaystyle 1$"
      ],
      "text/plain": [
       "1"
      ]
     },
     "execution_count": 30,
     "metadata": {},
     "output_type": "execute_result"
    }
   ],
   "source": [
    "da_dc=diff(sa,sc)\n",
    "da_db=diff(sa,sb)\n",
    "da_dc\n",
    "da_db"
   ]
  },
  {
   "cell_type": "code",
   "execution_count": 31,
   "metadata": {},
   "outputs": [
    {
     "data": {
      "text/latex": [
       "$\\displaystyle d$"
      ],
      "text/plain": [
       "d"
      ]
     },
     "execution_count": 31,
     "metadata": {},
     "output_type": "execute_result"
    },
    {
     "data": {
      "text/latex": [
       "$\\displaystyle d$"
      ],
      "text/plain": [
       "d"
      ]
     },
     "execution_count": 31,
     "metadata": {},
     "output_type": "execute_result"
    }
   ],
   "source": [
    "dJ_dc=dJ_da*da_dc\n",
    "dJ_db=dJ_da*da_db\n",
    "dJ_dc\n",
    "dJ_db"
   ]
  },
  {
   "cell_type": "code",
   "execution_count": 32,
   "metadata": {},
   "outputs": [
    {
     "data": {
      "text/latex": [
       "$\\displaystyle w x$"
      ],
      "text/plain": [
       "w*x"
      ]
     },
     "execution_count": 32,
     "metadata": {},
     "output_type": "execute_result"
    }
   ],
   "source": [
    "sc=sw*sx\n",
    "sc"
   ]
  },
  {
   "cell_type": "code",
   "execution_count": 33,
   "metadata": {},
   "outputs": [
    {
     "data": {
      "text/latex": [
       "$\\displaystyle x$"
      ],
      "text/plain": [
       "x"
      ]
     },
     "execution_count": 33,
     "metadata": {},
     "output_type": "execute_result"
    }
   ],
   "source": [
    "dc_dw=diff(sc,sw)\n",
    "dc_dw"
   ]
  },
  {
   "cell_type": "code",
   "execution_count": 34,
   "metadata": {},
   "outputs": [
    {
     "data": {
      "text/latex": [
       "$\\displaystyle d x$"
      ],
      "text/plain": [
       "d*x"
      ]
     },
     "execution_count": 34,
     "metadata": {},
     "output_type": "execute_result"
    }
   ],
   "source": [
    "dJ_dw=dJ_dc*dc_dw\n",
    "dJ_dw"
   ]
  },
  {
   "cell_type": "code",
   "execution_count": 35,
   "metadata": {},
   "outputs": [
    {
     "name": "stdout",
     "output_type": "stream",
     "text": [
      "dJ_dw = 2*d\n"
     ]
    }
   ],
   "source": [
    "print(f\"dJ_dw = {dJ_dw.subs([(sd,d),(sx,x)])}\")"
   ]
  },
  {
   "cell_type": "code",
   "execution_count": 36,
   "metadata": {},
   "outputs": [
    {
     "name": "stdout",
     "output_type": "stream",
     "text": [
      "J = 4.5, J_epsilon = 4.506002, dJ_dw ~= k = 6.001999999999619 \n"
     ]
    }
   ],
   "source": [
    "J_epsilon = ((w+0.001)*x+b - y)**2/2\n",
    "k = (J_epsilon - J)/0.001  \n",
    "print(f\"J = {J}, J_epsilon = {J_epsilon}, dJ_dw ~= k = {k} \")"
   ]
  }
 ],
 "metadata": {
  "kernelspec": {
   "display_name": "karim",
   "language": "python",
   "name": "python3"
  },
  "language_info": {
   "codemirror_mode": {
    "name": "ipython",
    "version": 3
   },
   "file_extension": ".py",
   "mimetype": "text/x-python",
   "name": "python",
   "nbconvert_exporter": "python",
   "pygments_lexer": "ipython3",
   "version": "3.11.5"
  }
 },
 "nbformat": 4,
 "nbformat_minor": 2
}
