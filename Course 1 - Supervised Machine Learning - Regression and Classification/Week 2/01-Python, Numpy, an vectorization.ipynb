{
 "cells": [
  {
   "cell_type": "markdown",
   "metadata": {},
   "source": [
    "# Python, Numpy, and Vectorization"
   ]
  },
  {
   "cell_type": "markdown",
   "metadata": {},
   "source": [
    "## 1 Outline"
   ]
  },
  {
   "cell_type": "code",
   "execution_count": 1,
   "metadata": {},
   "outputs": [],
   "source": [
    "import numpy as np\n",
    "import time"
   ]
  },
  {
   "cell_type": "markdown",
   "metadata": {},
   "source": [
    "### 1.1 Goals\n",
    "### 1.2 Useful References"
   ]
  },
  {
   "cell_type": "markdown",
   "metadata": {},
   "source": [
    "## 2 Python and Numpy"
   ]
  },
  {
   "cell_type": "markdown",
   "metadata": {},
   "source": [
    "## 3 Vectors"
   ]
  },
  {
   "cell_type": "markdown",
   "metadata": {},
   "source": [
    "### 3.1 Abstract\n",
    "### 3.2 NumPy Arrays"
   ]
  },
  {
   "cell_type": "markdown",
   "metadata": {},
   "source": [
    "### 3.3 Vector Creation"
   ]
  },
  {
   "cell_type": "code",
   "execution_count": 3,
   "metadata": {},
   "outputs": [
    {
     "name": "stdout",
     "output_type": "stream",
     "text": [
      "np.zeros(4): a= [0. 0. 0. 0.], a shape=(4,), a data type=float64\n",
      "np.zeros((4,)): a=[0. 0. 0. 0.], a shape=(4,), a data type=float64\n",
      "np.random.randm_sample(4): a=[0.82191397 0.2560513  0.97426912 0.56577193], a shape=(4,), a data type: float64\n"
     ]
    }
   ],
   "source": [
    "a= np.zeros(4)\n",
    "print(f\"np.zeros(4): a= {a}, a shape={a.shape}, a data type={a.dtype}\")\n",
    "a= np.zeros((4,))\n",
    "print(f\"np.zeros((4,)): a={a}, a shape={a.shape}, a data type={a.dtype}\")\n",
    "a=np.random.random_sample(4)\n",
    "print(f\"np.random.randm_sample(4): a={a}, a shape={a.shape}, a data type: {a.dtype}\")"
   ]
  },
  {
   "cell_type": "code",
   "execution_count": 4,
   "metadata": {},
   "outputs": [
    {
     "name": "stdout",
     "output_type": "stream",
     "text": [
      "np.arange(4.): a=[0. 1. 2. 3.], a shape=(4,), a data type=float64\n",
      "np.random.rand(4): a=[0.01847348 0.56489887 0.95757392 0.51920136], a shape=(4,), a data type=float64\n"
     ]
    }
   ],
   "source": [
    "a=np.arange(4.)\n",
    "print(f\"np.arange(4.): a={a}, a shape={a.shape}, a data type={a.dtype}\")\n",
    "a=np.random.rand(4)\n",
    "print(f\"np.random.rand(4): a={a}, a shape={a.shape}, a data type={a.dtype}\")"
   ]
  },
  {
   "cell_type": "code",
   "execution_count": 6,
   "metadata": {},
   "outputs": [
    {
     "name": "stdout",
     "output_type": "stream",
     "text": [
      "np.array([5,4,3,2]): a=[5 4 3 2], a shape=(4,), a data type=int32\n",
      "np.array([5.,4,3,2]): a=[5. 4. 3. 2.], a shape=(4,), a data type=float64\n"
     ]
    }
   ],
   "source": [
    "a=np.array([5,4,3,2])\n",
    "print(f\"np.array([5,4,3,2]): a={a}, a shape={a.shape}, a data type={a.dtype}\")\n",
    "a=np.array([5.,4,3,2])\n",
    "print(f\"np.array([5.,4,3,2]): a={a}, a shape={a.shape}, a data type={a.dtype}\")"
   ]
  },
  {
   "cell_type": "markdown",
   "metadata": {},
   "source": [
    "### 3.4 Operations on Vectors"
   ]
  },
  {
   "cell_type": "markdown",
   "metadata": {},
   "source": [
    "#### 3.4.1: Indexing"
   ]
  },
  {
   "cell_type": "code",
   "execution_count": 7,
   "metadata": {},
   "outputs": [
    {
     "data": {
      "text/plain": [
       "array([0, 1, 2, 3, 4, 5, 6, 7, 8, 9])"
      ]
     },
     "execution_count": 7,
     "metadata": {},
     "output_type": "execute_result"
    },
    {
     "name": "stdout",
     "output_type": "stream",
     "text": [
      "a[2].shape: () a[2]=2, Accessing an element returns a scalar\n",
      "a[-1]=9\n",
      "The error message yo'll see is:\n",
      "index 10 is out of bounds for axis 0 with size 10\n"
     ]
    }
   ],
   "source": [
    "a=np.arange(10)\n",
    "a\n",
    "\n",
    "print(f\"a[2].shape: {a[2].shape} a[2]={a[2]}, Accessing an element returns a scalar\")\n",
    "print(f\"a[-1]={a[-1]}\")\n",
    "try:\n",
    "    c=a[10]\n",
    "except Exception as e:\n",
    "    print(\"The error message yo'll see is:\")\n",
    "    print(e)"
   ]
  },
  {
   "cell_type": "markdown",
   "metadata": {},
   "source": [
    "#### 3.4.2 Slicing"
   ]
  },
  {
   "cell_type": "code",
   "execution_count": 9,
   "metadata": {},
   "outputs": [
    {
     "name": "stdout",
     "output_type": "stream",
     "text": [
      "a=[0 1 2 3 4 5 6 7 8 9]\n",
      "a[2:7:1]=  [2 3 4 5 6]\n",
      "a[2:7:2]=  [2 4 6]\n",
      "a[3:]=  [3 4 5 6 7 8 9]\n",
      "a[:3]=  [0 1 2]\n",
      "a[:]=  [0 1 2 3 4 5 6 7 8 9]\n"
     ]
    }
   ],
   "source": [
    "a=np.arange(10); print(f\"a={a}\")\n",
    "c=a[2:7:1]; print(\"a[2:7:1]= \",c)\n",
    "c=a[2:7:2]; print(\"a[2:7:2]= \",c)\n",
    "c=a[3:]; print(\"a[3:]= \",c)\n",
    "c=a[:3]; print(\"a[:3]= \",c)\n",
    "c=a[:]; print(\"a[:]= \",c)"
   ]
  },
  {
   "cell_type": "markdown",
   "metadata": {},
   "source": [
    "### 3.4.3 Single vector operations"
   ]
  }
 ],
 "metadata": {
  "kernelspec": {
   "display_name": "karim",
   "language": "python",
   "name": "python3"
  },
  "language_info": {
   "codemirror_mode": {
    "name": "ipython",
    "version": 3
   },
   "file_extension": ".py",
   "mimetype": "text/x-python",
   "name": "python",
   "nbconvert_exporter": "python",
   "pygments_lexer": "ipython3",
   "version": "3.11.5"
  }
 },
 "nbformat": 4,
 "nbformat_minor": 2
}
